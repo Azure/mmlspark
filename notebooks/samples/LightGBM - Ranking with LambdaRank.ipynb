{
 "cells": [
  {
   "cell_type": "markdown",
   "metadata": {},
   "source": [
    "## LightGBM - Ranking with LambdaRank\n",
    "\n",
    "We will demonstrate how to use the LightGBM ranker.\n",
    "\n",
    "\n",
    "This sample demonstrates how to use the following APIs:\n",
    "- `LightGBMRanker`"
   ]
  },
  {
   "cell_type": "code",
   "execution_count": null,
   "metadata": {},
   "outputs": [],
   "source": [
    "from pyspark.sql.functions import monotonically_increasing_id\n",
    "from pyspark.sql.functions import explode"
   ]
  },
  {
   "cell_type": "markdown",
   "metadata": {},
   "source": [
    "Read the SVMLight data file"
   ]
  },
  {
   "cell_type": "code",
   "execution_count": null,
   "metadata": {
    "collapsed": true
   },
   "outputs": [],
   "source": [
    "\n",
    "df1 = spark.read.format('libsvm') \\\n",
    "    .load(\"https://github.com/microsoft/LightGBM/raw/master/examples/lambdarank/rank.train\") \\\n",
    "    .withColumn('iid', monotonically_increasing_id())"
   ]
  },
  {
   "cell_type": "markdown",
   "metadata": {},
   "source": [
    "Create a helper function to process the query file"
   ]
  },
  {
   "cell_type": "code",
   "execution_count": null,
   "metadata": {
    "collapsed": true
   },
   "outputs": [],
   "source": [
    "import numpy as np\n",
    "from pyspark.sql.types import ArrayType, LongType\n",
    "def create_rows(value, index):\n",
    "    arr = np.zeros([value])\n",
    "    arr.fill(index)\n",
    "    return arr.astype('int').tolist()\n",
    "create_rows_udf = udf(create_rows, ArrayType(LongType()))"
   ]
  },
  {
   "cell_type": "code",
   "execution_count": null,
   "metadata": {
    "collapsed": true
   },
   "outputs": [],
   "source": [
    "create_rows(13, 1)"
   ]
  },
  {
   "cell_type": "markdown",
   "metadata": {},
   "source": [
    "Read the CSV query file and join with the SVMLight training data"
   ]
  },
  {
   "cell_type": "code",
   "execution_count": null,
   "metadata": {
    "collapsed": true
   },
   "outputs": [],
   "source": [
    "query_col = 'query'\n",
    "label_col = 'labels'\n",
    "# read in CSV file\n",
    "df2 = spark.read.format('csv').option('inferSchema', True) \\\n",
    "    .load(\"https://github.com/microsoft/LightGBM/raw/master/examples/lambdarank/rank.train.query\") \\\n",
    "    .withColumn('index', monotonically_increasing_id()) \\\n",
    "    .withColumn(query_col, explode(create_rows_udf('_c0', 'index'))) \\\n",
    "    .withColumn('iid', monotonically_increasing_id()) \\\n",
    "    .drop('_c0', 'index') \\\n",
    "    .join(df1, 'iid').drop('iid') \\\n",
    "    .withColumnRenamed('label', label_col)"
   ]
  },
  {
   "cell_type": "code",
   "execution_count": null,
   "metadata": {
    "collapsed": true
   },
   "outputs": [],
   "source": [
    "# print some basic info\n",
    "print(\"records read: \" + str(df1.count()))\n",
    "print(\"Schema: \")\n",
    "df2.printSchema()\n",
    "df2.limit(10).toPandas()"
   ]
  },
  {
   "cell_type": "code",
   "execution_count": null,
   "metadata": {
    "collapsed": true
   },
   "outputs": [],
   "source": [
    "from mmlspark.lightgbm import LightGBMRanker"
   ]
  },
  {
   "cell_type": "markdown",
   "metadata": {},
   "source": [
    "Create the LightGBMRanker"
   ]
  },
  {
   "cell_type": "code",
   "execution_count": null,
   "metadata": {
    "collapsed": true
   },
   "outputs": [],
   "source": [
    "features_col = 'features'\n",
    "lgbm_ranker = LightGBMRanker(labelCol=label_col,\n",
    "                             featuresCol=features_col,\n",
    "                             groupCol=query_col,\n",
    "                             predictionCol='preds',\n",
    "                             leafPredictionCol='leafPreds',\n",
    "                             featuresShapCol='importances',\n",
    "                             repartitionByGroupingColumn=True,\n",
    "                             numLeaves=32,\n",
    "                             numIterations=200,\n",
    "                             evalAt=[1,3,5],\n",
    "                             metric='ndcg')"
   ]
  },
  {
   "cell_type": "code",
   "execution_count": null,
   "metadata": {
    "collapsed": true
   },
   "outputs": [],
   "source": [
    "lgbm_ranker_model = lgbm_ranker.fit(df2)"
   ]
  },
  {
   "cell_type": "markdown",
   "metadata": {},
   "source": [
    "Read in SVMLight test file and query column"
   ]
  },
  {
   "cell_type": "code",
   "execution_count": null,
   "metadata": {
    "collapsed": true
   },
   "outputs": [],
   "source": [
    "\n",
    "dt1 = spark.read.format('libsvm') \\\n",
    "    .load(\"https://github.com/microsoft/LightGBM/raw/master/examples/lambdarank/rank.train\") \\\n",
    "    .withColumn('iid', monotonically_increasing_id())\n",
    "dt2 = spark.read.format('csv').option('inferSchema', True) \\\n",
    "    .load(\"https://github.com/microsoft/LightGBM/raw/master/examples/lambdarank/rank.test.query\") \\\n",
    "    .withColumn('index', monotonically_increasing_id()) \\\n",
    "    .withColumn(query_col, explode(create_rows_udf('_c0', 'index'))) \\\n",
    "    .withColumn('iid', monotonically_increasing_id()) \\\n",
    "    .drop('_c0', 'index') \\\n",
    "    .join(df1, 'iid').drop('iid') \\\n",
    "    .withColumnRenamed('label', label_col)"
   ]
  },
  {
   "cell_type": "markdown",
   "metadata": {},
   "source": [
    "Get the predictions from LambdaRank"
   ]
  },
  {
   "cell_type": "code",
   "execution_count": null,
   "metadata": {
    "collapsed": true
   },
   "outputs": [],
   "source": [
    "predictions = lgbm_ranker_model.transform(dt2)"
   ]
  },
  {
   "cell_type": "code",
   "execution_count": null,
   "metadata": {
    "collapsed": true
   },
   "outputs": [],
   "source": [
    "predictions.limit(10).toPandas()"
   ]
  }
 ],
 "metadata": {
  "anaconda-cloud": {},
  "kernelspec": {
   "display_name": "Python 3",
   "language": "python",
   "name": "python3"
  },
  "language_info": {
   "codemirror_mode": {
    "name": "ipython",
    "version": 3
   },
   "file_extension": ".py",
   "mimetype": "text/x-python",
   "name": "python",
   "nbconvert_exporter": "python",
   "pygments_lexer": "ipython3",
   "version": "3.6.3"
  }
 },
 "nbformat": 4,
 "nbformat_minor": 2
}
