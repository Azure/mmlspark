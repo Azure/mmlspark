{
 "cells": [
  {
   "cell_type": "markdown",
   "metadata": {},
   "source": [
    "## Model Deployment with Spark Serving \n",
    "In this example, we try to predict incomes from the *Adult Census* dataset. Then we will use Spark serving to deploy it as a realtime web service. \n",
    "First, we import needed packages:"
   ]
  },
  {
   "cell_type": "code",
   "execution_count": 1,
   "metadata": {
    "collapsed": true
   },
   "outputs": [],
   "source": [
    "import sys\n",
    "import numpy as np\n",
    "import pandas as pd\n",
    "import mmlspark\n"
   ]
  },
  {
   "cell_type": "markdown",
   "metadata": {},
   "source": [
    "Now let's read the data and split it to train and test sets:"
   ]
  },
  {
   "cell_type": "code",
   "execution_count": 2,
   "metadata": {},
   "outputs": [
    {
     "data": {
      "text/html": [
       "<div>\n",
       "<style>\n",
       "    .dataframe thead tr:only-child th {\n",
       "        text-align: right;\n",
       "    }\n",
       "\n",
       "    .dataframe thead th {\n",
       "        text-align: left;\n",
       "    }\n",
       "\n",
       "    .dataframe tbody tr th {\n",
       "        vertical-align: top;\n",
       "    }\n",
       "</style>\n",
       "<table border=\"1\" class=\"dataframe\">\n",
       "  <thead>\n",
       "    <tr style=\"text-align: right;\">\n",
       "      <th></th>\n",
       "      <th>education</th>\n",
       "      <th>marital-status</th>\n",
       "      <th>hours-per-week</th>\n",
       "      <th>income</th>\n",
       "    </tr>\n",
       "  </thead>\n",
       "  <tbody>\n",
       "    <tr>\n",
       "      <th>0</th>\n",
       "      <td>10th</td>\n",
       "      <td>Divorced</td>\n",
       "      <td>10.0</td>\n",
       "      <td>&lt;=50K</td>\n",
       "    </tr>\n",
       "    <tr>\n",
       "      <th>1</th>\n",
       "      <td>10th</td>\n",
       "      <td>Divorced</td>\n",
       "      <td>25.0</td>\n",
       "      <td>&lt;=50K</td>\n",
       "    </tr>\n",
       "    <tr>\n",
       "      <th>2</th>\n",
       "      <td>10th</td>\n",
       "      <td>Divorced</td>\n",
       "      <td>28.0</td>\n",
       "      <td>&lt;=50K</td>\n",
       "    </tr>\n",
       "    <tr>\n",
       "      <th>3</th>\n",
       "      <td>10th</td>\n",
       "      <td>Divorced</td>\n",
       "      <td>30.0</td>\n",
       "      <td>&lt;=50K</td>\n",
       "    </tr>\n",
       "    <tr>\n",
       "      <th>4</th>\n",
       "      <td>10th</td>\n",
       "      <td>Divorced</td>\n",
       "      <td>32.0</td>\n",
       "      <td>&lt;=50K</td>\n",
       "    </tr>\n",
       "    <tr>\n",
       "      <th>5</th>\n",
       "      <td>10th</td>\n",
       "      <td>Divorced</td>\n",
       "      <td>35.0</td>\n",
       "      <td>&lt;=50K</td>\n",
       "    </tr>\n",
       "    <tr>\n",
       "      <th>6</th>\n",
       "      <td>10th</td>\n",
       "      <td>Divorced</td>\n",
       "      <td>37.0</td>\n",
       "      <td>&lt;=50K</td>\n",
       "    </tr>\n",
       "    <tr>\n",
       "      <th>7</th>\n",
       "      <td>10th</td>\n",
       "      <td>Divorced</td>\n",
       "      <td>38.0</td>\n",
       "      <td>&lt;=50K</td>\n",
       "    </tr>\n",
       "    <tr>\n",
       "      <th>8</th>\n",
       "      <td>10th</td>\n",
       "      <td>Divorced</td>\n",
       "      <td>38.0</td>\n",
       "      <td>&lt;=50K</td>\n",
       "    </tr>\n",
       "    <tr>\n",
       "      <th>9</th>\n",
       "      <td>10th</td>\n",
       "      <td>Divorced</td>\n",
       "      <td>40.0</td>\n",
       "      <td>&lt;=50K</td>\n",
       "    </tr>\n",
       "  </tbody>\n",
       "</table>\n",
       "</div>"
      ],
      "text/plain": [
       "   education  marital-status   hours-per-week  income\n",
       "0       10th        Divorced             10.0   <=50K\n",
       "1       10th        Divorced             25.0   <=50K\n",
       "2       10th        Divorced             28.0   <=50K\n",
       "3       10th        Divorced             30.0   <=50K\n",
       "4       10th        Divorced             32.0   <=50K\n",
       "5       10th        Divorced             35.0   <=50K\n",
       "6       10th        Divorced             37.0   <=50K\n",
       "7       10th        Divorced             38.0   <=50K\n",
       "8       10th        Divorced             38.0   <=50K\n",
       "9       10th        Divorced             40.0   <=50K"
      ]
     },
     "execution_count": 2,
     "metadata": {},
     "output_type": "execute_result"
    }
   ],
   "source": [
    "dataFilePath = \"AdultCensusIncome.csv\"\n",
    "import os, urllib\n",
    "if not os.path.isfile(dataFilePath):\n",
    "    urllib.request.urlretrieve(\"https://mmlspark.azureedge.net/datasets/\" + dataFilePath, dataFilePath)\n",
    "data = spark.createDataFrame(pd.read_csv(dataFilePath, dtype={\" hours-per-week\": np.float64}))\n",
    "data = data.select([\" education\", \" marital-status\", \" hours-per-week\", \" income\"])\n",
    "train, test = data.randomSplit([0.75, 0.25], seed=123)\n",
    "train.limit(10).toPandas()"
   ]
  },
  {
   "cell_type": "markdown",
   "metadata": {},
   "source": [
    "`TrainClassifier` can be used to initialize and fit a model, it wraps SparkML classifiers.\n",
    "You can use `help(mmlspark.TrainClassifier)` to view the different parameters.\n",
    "\n",
    "Note that it implicitly converts the data into the format expected by the algorithm. More specifically it:\n",
    " tokenizes, hashes strings, one-hot encodes categorical variables, assembles the features into a vector\n",
    "etc.  The parameter `numFeatures` controls the number of hashed features."
   ]
  },
  {
   "cell_type": "code",
   "execution_count": 3,
   "metadata": {
    "collapsed": true
   },
   "outputs": [],
   "source": [
    "from mmlspark import TrainClassifier\n",
    "from pyspark.ml.classification import LogisticRegression\n",
    "model = TrainClassifier(model=LogisticRegression(), labelCol=\" income\", numFeatures=256).fit(train)"
   ]
  },
  {
   "cell_type": "markdown",
   "metadata": {},
   "source": [
    "After the model is trained, we score it against the test dataset and view metrics."
   ]
  },
  {
   "cell_type": "code",
   "execution_count": 4,
   "metadata": {},
   "outputs": [
    {
     "name": "stdout",
     "output_type": "stream",
     "text": [
      "root\n",
      " |--  education: string (nullable = true)\n",
      " |--  marital-status: string (nullable = true)\n",
      " |--  hours-per-week: double (nullable = true)\n",
      " |--  income: string (nullable = true)\n",
      " |-- scores: vector (nullable = true)\n",
      " |-- scored_probabilities: vector (nullable = true)\n",
      " |-- scored_labels: double (nullable = false)\n",
      "\n"
     ]
    }
   ],
   "source": [
    "from mmlspark import ComputeModelStatistics, TrainedClassifierModel\n",
    "prediction = model.transform(test)\n",
    "prediction.printSchema()"
   ]
  },
  {
   "cell_type": "code",
   "execution_count": 5,
   "metadata": {},
   "outputs": [
    {
     "data": {
      "text/html": [
       "<div>\n",
       "<style>\n",
       "    .dataframe thead tr:only-child th {\n",
       "        text-align: right;\n",
       "    }\n",
       "\n",
       "    .dataframe thead th {\n",
       "        text-align: left;\n",
       "    }\n",
       "\n",
       "    .dataframe tbody tr th {\n",
       "        vertical-align: top;\n",
       "    }\n",
       "</style>\n",
       "<table border=\"1\" class=\"dataframe\">\n",
       "  <thead>\n",
       "    <tr style=\"text-align: right;\">\n",
       "      <th></th>\n",
       "      <th>evaluation_type</th>\n",
       "      <th>confusion_matrix</th>\n",
       "      <th>accuracy</th>\n",
       "      <th>precision</th>\n",
       "      <th>recall</th>\n",
       "      <th>AUC</th>\n",
       "    </tr>\n",
       "  </thead>\n",
       "  <tbody>\n",
       "    <tr>\n",
       "      <th>0</th>\n",
       "      <td>Classification</td>\n",
       "      <td>DenseMatrix([[ 5797.,   408.],\\n             [...</td>\n",
       "      <td>0.822389</td>\n",
       "      <td>0.688787</td>\n",
       "      <td>0.464985</td>\n",
       "      <td>0.87002</td>\n",
       "    </tr>\n",
       "  </tbody>\n",
       "</table>\n",
       "</div>"
      ],
      "text/plain": [
       "  evaluation_type                                   confusion_matrix  \\\n",
       "0  Classification  DenseMatrix([[ 5797.,   408.],\\n             [...   \n",
       "\n",
       "   accuracy  precision    recall      AUC  \n",
       "0  0.822389   0.688787  0.464985  0.87002  "
      ]
     },
     "execution_count": 5,
     "metadata": {},
     "output_type": "execute_result"
    }
   ],
   "source": [
    "metrics = ComputeModelStatistics().transform(prediction)\n",
    "metrics.limit(10).toPandas()"
   ]
  },
  {
   "cell_type": "markdown",
   "metadata": {},
   "source": [
    "First, we will define the webservice input/output.\n",
    "For more information, you can visit the [documentation for Spark Serving](https://github.com/Azure/mmlspark/blob/master/docs/mmlspark-serving.md)"
   ]
  },
  {
   "cell_type": "code",
   "execution_count": 6,
   "metadata": {
    "collapsed": true
   },
   "outputs": [],
   "source": [
    "from pyspark.sql.functions import col, from_json\n",
    "from pyspark.sql.types import *\n",
    "import uuid\n",
    "\n",
    "serving_inputs = spark.readStream.server() \\\n",
    "    .address(\"localhost\", 8898, \"my_api\") \\\n",
    "    .load()\\\n",
    "    .withColumn(\"variables\", from_json(col(\"value\"), test.schema))\\\n",
    "    .select(\"id\",\"variables.*\")\n",
    "\n",
    "serving_outputs = model.transform(serving_inputs) \\\n",
    "  .withColumn(\"scored_labels\", col(\"scored_labels\").cast(\"string\"))\n",
    "\n",
    "server = serving_outputs.writeStream \\\n",
    "    .server() \\\n",
    "    .option(\"name\", \"my_api\") \\\n",
    "    .queryName(\"my_query\") \\\n",
    "    .option(\"replyCol\", \"scored_labels\") \\\n",
    "    .option(\"checkpointLocation\", \"checkpoints-{}\".format(uuid.uuid1())) \\\n",
    "    .start()\n"
   ]
  },
  {
   "cell_type": "markdown",
   "metadata": {},
   "source": [
    "Test the webservice"
   ]
  },
  {
   "cell_type": "code",
   "execution_count": 7,
   "metadata": {},
   "outputs": [
    {
     "name": "stdout",
     "output_type": "stream",
     "text": [
      "Response 0.0\n"
     ]
    }
   ],
   "source": [
    "import requests\n",
    "data = u'{\" education\":\" 10th\",\" marital-status\":\" Divorced\",\" hours-per-week\":40.0}'\n",
    "r = requests.post(data=data, url=\"http://localhost:8898/my_api\")\n",
    "print(\"Response {}\".format(r.text))"
   ]
  },
  {
   "cell_type": "code",
   "execution_count": 8,
   "metadata": {},
   "outputs": [
    {
     "name": "stdout",
     "output_type": "stream",
     "text": [
      "Response 1.0\n"
     ]
    }
   ],
   "source": [
    "import requests\n",
    "data = u'{\" education\":\" Masters\",\" marital-status\":\" Married-civ-spouse\",\" hours-per-week\":40.0}'\n",
    "r = requests.post(data=data, url=\"http://localhost:8898/my_api\")\n",
    "print(\"Response {}\".format(r.text))"
   ]
  },
  {
   "cell_type": "code",
   "execution_count": 9,
   "metadata": {
    "collapsed": true
   },
   "outputs": [],
   "source": [
    "import time\n",
    "time.sleep(20) # wait for server to finish setting up (just to be safe)\n",
    "server.stop()"
   ]
  },
  {
   "cell_type": "code",
   "execution_count": null,
   "metadata": {
    "collapsed": true
   },
   "outputs": [],
   "source": []
  }
 ],
 "metadata": {
  "anaconda-cloud": {},
  "kernelspec": {
   "display_name": "Python [default]",
   "language": "python",
   "name": "python3"
  },
  "language_info": {
   "codemirror_mode": {
    "name": "ipython",
    "version": 3
   },
   "file_extension": ".py",
   "mimetype": "text/x-python",
   "name": "python",
   "nbconvert_exporter": "python",
   "pygments_lexer": "ipython3",
   "version": "3.6.6"
  },
  "name": "108 - Model Deployment with Spark Serving",
  "notebookId": 496516146626304
 },
 "nbformat": 4,
 "nbformat_minor": 2
}
