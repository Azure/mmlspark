{
 "cells": [
  {
   "cell_type": "code",
   "execution_count": 1,
   "metadata": {},
   "outputs": [],
   "source": [
    "# Use the Azure Machine Learning data collector to log various metrics\n",
    "from azureml.logging import get_azureml_logger\n",
    "logger = get_azureml_logger()"
   ]
  },
  {
   "cell_type": "code",
   "execution_count": 4,
   "metadata": {},
   "outputs": [],
   "source": [
    "import pyspark\n",
    "import unittest\n",
    "from mmlspark.SAR import SAR\n",
    "\n",
    "from pyspark.ml.tuning import *\n",
    "from pyspark.sql.types import *\n"
   ]
  },
  {
   "cell_type": "code",
   "execution_count": 12,
   "metadata": {},
   "outputs": [],
   "source": [
    "spark = pyspark.sql.SparkSession.builder.master(\"local[*]\").getOrCreate()\n",
    "\n",
    "cSchema = StructType([StructField(\"customerID\", IntegerType()),\n",
    "                      StructField(\"itemID\", IntegerType()),\n",
    "                      StructField(\"rating\", IntegerType()),\n",
    "                      StructField(\"notTime\", IntegerType())])\n",
    "\n",
    "ratings = spark.createDataFrame([\n",
    "    (0, 1, 4, 4),\n",
    "    (0, 3, 1, 1),\n",
    "    (0, 4, 5, 5),\n",
    "    (0, 5, 3, 3),\n",
    "    (0, 7, 3, 3),\n",
    "    (0, 9, 3, 3),\n",
    "    (0, 0, 3, 3),\n",
    "    (1, 1, 4, 4),\n",
    "    (1, 2, 5, 5),\n",
    "    (1, 3, 1, 1),\n",
    "    (1, 6, 4, 4),\n",
    "    (1, 7, 5, 5),\n",
    "    (1, 8, 1, 1),\n",
    "    (1, 0, 3, 3),\n",
    "    (2, 1, 4, 4),\n",
    "    (2, 2, 1, 1),\n",
    "    (2, 3, 1, 1),\n",
    "    (2, 4, 5, 5),\n",
    "    (2, 5, 3, 3),\n",
    "    (2, 6, 4, 4),\n",
    "    (2, 8, 1, 1),\n",
    "    (2, 9, 5, 5),\n",
    "    (2, 0, 3, 3),\n",
    "    (3, 2, 5, 5),\n",
    "    (3, 3, 1, 1),\n",
    "    (3, 4, 5, 5),\n",
    "    (3, 5, 3, 3),\n",
    "    (3, 6, 4, 4),\n",
    "    (3, 7, 5, 5),\n",
    "    (3, 8, 1, 1),\n",
    "    (3, 9, 5, 5),\n",
    "    (3, 0, 3, 3)], cSchema)"
   ]
  },
  {
   "cell_type": "code",
   "execution_count": 13,
   "metadata": {},
   "outputs": [
    {
     "name": "stdout",
     "output_type": "stream",
     "text": [
      "[Row(customerID=1, recommendations=[Row(itemID=0, rating=3.0), Row(itemID=3, rating=3.0), Row(itemID=1, rating=2.25)]), Row(customerID=3, recommendations=[Row(itemID=0, rating=3.0), Row(itemID=3, rating=3.0), Row(itemID=1, rating=2.25)]), Row(customerID=2, recommendations=[Row(itemID=0, rating=3.0), Row(itemID=3, rating=3.0), Row(itemID=1, rating=2.25)]), Row(customerID=0, recommendations=[Row(itemID=0, rating=3.0), Row(itemID=3, rating=3.0), Row(itemID=1, rating=2.25)])]\n"
     ]
    }
   ],
   "source": [
    "sar = SAR() \\\n",
    "    .setUserCol(\"customerID\") \\\n",
    "    .setRatingCol(\"rating\") \\\n",
    "    .setItemCol(\"itemID\") \\\n",
    "    .setSupportThreshold(2)\\\n",
    "\n",
    "sarModel = sar.fit(ratings)\n",
    "usersRecs = sarModel.recommendForAllUsers(3)\n",
    "print(usersRecs.take(4))"
   ]
  },
  {
   "cell_type": "code",
   "execution_count": null,
   "metadata": {},
   "outputs": [],
   "source": []
  }
 ],
 "metadata": {
  "kernelspec": {
   "display_name": "SAR_Recommendations dciborowdsvm",
   "language": "python",
   "name": "sar_recommendations_dciborowdsvm"
  },
  "language_info": {
   "codemirror_mode": {
    "name": "ipython",
    "version": 3
   },
   "file_extension": ".py",
   "mimetype": "text/x-python",
   "name": "python",
   "nbconvert_exporter": "python",
   "pygments_lexer": "ipython3",
   "version": "3.5.2"
  }
 },
 "nbformat": 4,
 "nbformat_minor": 2
}
