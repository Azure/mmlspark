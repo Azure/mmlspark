{
 "cells": [
  {
   "cell_type": "code",
   "execution_count": 1,
   "metadata": {},
   "outputs": [],
   "source": [
    "# Use the Azure Machine Learning data collector to log various metrics\n",
    "from azureml.logging import get_azureml_logger\n",
    "logger = get_azureml_logger()\n",
    "import pprint\n",
    "pp = pprint.PrettyPrinter(indent=4, depth=10)"
   ]
  },
  {
   "cell_type": "code",
   "execution_count": 4,
   "metadata": {},
   "outputs": [],
   "source": [
    "import pyspark\n",
    "import unittest\n",
    "from mmlspark.SAR import SAR\n",
    "\n",
    "from pyspark.ml.tuning import *\n",
    "from pyspark.sql.types import *\n"
   ]
  },
  {
   "cell_type": "markdown",
   "metadata": {},
   "source": [
    "# Create Sample Data"
   ]
  },
  {
   "cell_type": "code",
   "execution_count": 5,
   "metadata": {},
   "outputs": [
    {
     "name": "stdout",
     "output_type": "stream",
     "text": [
      "[   Row(customerID=0, itemID=1, rating=4, notTime=4),\n",
      "    Row(customerID=0, itemID=3, rating=1, notTime=1),\n",
      "    Row(customerID=0, itemID=4, rating=5, notTime=5),\n",
      "    Row(customerID=0, itemID=5, rating=3, notTime=3),\n",
      "    Row(customerID=0, itemID=7, rating=3, notTime=3),\n",
      "    Row(customerID=0, itemID=9, rating=3, notTime=3),\n",
      "    Row(customerID=0, itemID=0, rating=3, notTime=3),\n",
      "    Row(customerID=1, itemID=1, rating=4, notTime=4),\n",
      "    Row(customerID=1, itemID=2, rating=5, notTime=5),\n",
      "    Row(customerID=1, itemID=3, rating=1, notTime=1),\n",
      "    Row(customerID=1, itemID=6, rating=4, notTime=4),\n",
      "    Row(customerID=1, itemID=7, rating=5, notTime=5),\n",
      "    Row(customerID=1, itemID=8, rating=1, notTime=1),\n",
      "    Row(customerID=1, itemID=0, rating=3, notTime=3),\n",
      "    Row(customerID=2, itemID=1, rating=4, notTime=4),\n",
      "    Row(customerID=2, itemID=2, rating=1, notTime=1),\n",
      "    Row(customerID=2, itemID=3, rating=1, notTime=1),\n",
      "    Row(customerID=2, itemID=4, rating=5, notTime=5),\n",
      "    Row(customerID=2, itemID=5, rating=3, notTime=3),\n",
      "    Row(customerID=2, itemID=6, rating=4, notTime=4),\n",
      "    Row(customerID=2, itemID=8, rating=1, notTime=1),\n",
      "    Row(customerID=2, itemID=9, rating=5, notTime=5),\n",
      "    Row(customerID=2, itemID=0, rating=3, notTime=3),\n",
      "    Row(customerID=3, itemID=2, rating=5, notTime=5),\n",
      "    Row(customerID=3, itemID=3, rating=1, notTime=1),\n",
      "    Row(customerID=3, itemID=4, rating=5, notTime=5),\n",
      "    Row(customerID=3, itemID=5, rating=3, notTime=3),\n",
      "    Row(customerID=3, itemID=6, rating=4, notTime=4),\n",
      "    Row(customerID=3, itemID=7, rating=5, notTime=5),\n",
      "    Row(customerID=3, itemID=8, rating=1, notTime=1),\n",
      "    Row(customerID=3, itemID=9, rating=5, notTime=5),\n",
      "    Row(customerID=3, itemID=0, rating=3, notTime=3)]\n"
     ]
    }
   ],
   "source": [
    "spark = pyspark.sql.SparkSession.builder.master(\"local[*]\").getOrCreate()\n",
    "\n",
    "cSchema = StructType([StructField(\"customerID\", IntegerType()),\n",
    "                      StructField(\"itemID\", IntegerType()),\n",
    "                      StructField(\"rating\", IntegerType()),\n",
    "                      StructField(\"notTime\", IntegerType())])\n",
    "\n",
    "ratings = spark.createDataFrame([\n",
    "    (0, 1, 4, 4),\n",
    "    (0, 3, 1, 1),\n",
    "    (0, 4, 5, 5),\n",
    "    (0, 5, 3, 3),\n",
    "    (0, 7, 3, 3),\n",
    "    (0, 9, 3, 3),\n",
    "    (0, 0, 3, 3),\n",
    "    (1, 1, 4, 4),\n",
    "    (1, 2, 5, 5),\n",
    "    (1, 3, 1, 1),\n",
    "    (1, 6, 4, 4),\n",
    "    (1, 7, 5, 5),\n",
    "    (1, 8, 1, 1),\n",
    "    (1, 0, 3, 3),\n",
    "    (2, 1, 4, 4),\n",
    "    (2, 2, 1, 1),\n",
    "    (2, 3, 1, 1),\n",
    "    (2, 4, 5, 5),\n",
    "    (2, 5, 3, 3),\n",
    "    (2, 6, 4, 4),\n",
    "    (2, 8, 1, 1),\n",
    "    (2, 9, 5, 5),\n",
    "    (2, 0, 3, 3),\n",
    "    (3, 2, 5, 5),\n",
    "    (3, 3, 1, 1),\n",
    "    (3, 4, 5, 5),\n",
    "    (3, 5, 3, 3),\n",
    "    (3, 6, 4, 4),\n",
    "    (3, 7, 5, 5),\n",
    "    (3, 8, 1, 1),\n",
    "    (3, 9, 5, 5),\n",
    "    (3, 0, 3, 3)], cSchema)\n",
    "\n",
    "pp.pprint(ratings.collect())"
   ]
  },
  {
   "cell_type": "markdown",
   "metadata": {},
   "source": [
    "# Train SAR Model"
   ]
  },
  {
   "cell_type": "code",
   "execution_count": 6,
   "metadata": {},
   "outputs": [
    {
     "name": "stdout",
     "output_type": "stream",
     "text": [
      "[   Row(customerID=1, recommendations=[Row(itemID=0, rating=3.0), Row(itemID=3, rating=3.0), Row(itemID=1, rating=2.25)]),\n",
      "    Row(customerID=3, recommendations=[Row(itemID=0, rating=3.0), Row(itemID=3, rating=3.0), Row(itemID=1, rating=2.25)]),\n",
      "    Row(customerID=2, recommendations=[Row(itemID=0, rating=3.0), Row(itemID=3, rating=3.0), Row(itemID=1, rating=2.25)]),\n",
      "    Row(customerID=0, recommendations=[Row(itemID=0, rating=3.0), Row(itemID=3, rating=3.0), Row(itemID=1, rating=2.25)])]\n"
     ]
    }
   ],
   "source": [
    "sar = SAR() \\\n",
    "    .setUserCol(\"customerID\") \\\n",
    "    .setRatingCol(\"rating\") \\\n",
    "    .setItemCol(\"itemID\") \\\n",
    "    .setSupportThreshold(2)\\\n",
    "\n",
    "sarModel = sar.fit(ratings)\n",
    "usersRecs = sarModel.recommendForAllUsers(3)\n",
    "pp.pprint(usersRecs.collect())"
   ]
  },
  {
   "cell_type": "markdown",
   "metadata": {},
   "source": [
    "# Evaluate with Metrics"
   ]
  },
  {
   "cell_type": "code",
   "execution_count": 7,
   "metadata": {},
   "outputs": [],
   "source": [
    "import pandas as pd\n",
    "import pyspark\n",
    "import unittest\n",
    "from mmlspark.TrainTestSplit import *\n",
    "from mmlspark.evaluate import *\n",
    "from pyspark.ml.tuning import *\n",
    "from pyspark.sql.functions import col\n",
    "from pyspark.sql.types import *"
   ]
  },
  {
   "cell_type": "code",
   "execution_count": 8,
   "metadata": {},
   "outputs": [],
   "source": [
    "pyspark.sql.DataFrame.min_rating_filter = TrainTestSplit.min_rating_filter\n",
    "pyspark.sql.DataFrame.stratified_split = TrainTestSplit.stratified_split"
   ]
  },
  {
   "cell_type": "code",
   "execution_count": 9,
   "metadata": {},
   "outputs": [],
   "source": [
    "dfs_train, dfs_test = ratings\\\n",
    "                        .min_rating_filter(min_rating=1, by_customer=True)\\\n",
    "                        .stratified_split(min_rating=1, by_customer=True, fixed_test_sample=False, ratio=0.5)\n",
    "\n",
    "scored_data = sar.fit(dfs_train).transform(dfs_test)\n",
    "\n",
    "rating_true = scored_data.select(\"customerID\", \"itemID\", \"rating\")\n",
    "rating_pred = scored_data.select(\"customerID\", \"itemID\", \"prediction\").withColumnRenamed(\"prediction\", \"rating\")"
   ]
  },
  {
   "cell_type": "code",
   "execution_count": 10,
   "metadata": {},
   "outputs": [],
   "source": [
    "k = 5"
   ]
  },
  {
   "cell_type": "code",
   "execution_count": null,
   "metadata": {},
   "outputs": [
    {
     "name": "stdout",
     "output_type": "stream",
     "text": [
      "Recall: 1.0\n",
      "precision: 0.8\n",
      "ndcg: 1.0\n",
      "map: 1.0\n"
     ]
    }
   ],
   "source": [
    "evaluator_ranking = RankingEvaluation(k, rating_true, rating_pred)\n",
    "recall = evaluator_ranking.recall_at_k()\n",
    "precision = evaluator_ranking.precision_at_k()\n",
    "ndcg = evaluator_ranking.ndcg_at_k()\n",
    "map = evaluator_ranking.map_at_k()\n",
    "\n",
    "print(\"Recall: \" + str(recall))\n",
    "print(\"precision: \" + str(precision))\n",
    "print(\"ndcg: \" + str(ndcg))\n",
    "print(\"map: \" + str(map))"
   ]
  },
  {
   "cell_type": "code",
   "execution_count": null,
   "metadata": {},
   "outputs": [],
   "source": [
    "evaluator_distribution = DistributionMetrics(k, rating_true, rating_pred)\n",
    "\n",
    "print(evaluator_distribution.popularity_at_k().head(1))\n",
    "\n",
    "diversity = evaluator_distribution.diversity_at_k()\n",
    "max_diversity = evaluator_distribution.max_diversity()\n",
    "\n",
    "print(\"diversity: \" + str(diversity))\n",
    "print(\"max_diversity: \" + str(max_diversity))"
   ]
  },
  {
   "cell_type": "code",
   "execution_count": null,
   "metadata": {},
   "outputs": [],
   "source": [
    "evaluator_rating = RatingEvaluation(rating_true, rating_pred)\n",
    "\n",
    "rsquared = evaluator_rating.rsquared\n",
    "exp_var = evaluator_rating.exp_var\n",
    "mae = evaluator_rating.mae\n",
    "rmse = evaluator_rating.rmse\n",
    "\n",
    "print(\"rsquared: \" + str(rsquared))\n",
    "print(\"exp_var: \" + str(exp_var))\n",
    "print(\"mae: \" + str(mae))\n",
    "print(\"rmse: \" + str(rmse))"
   ]
  },
  {
   "cell_type": "code",
   "execution_count": null,
   "metadata": {},
   "outputs": [],
   "source": []
  }
 ],
 "metadata": {
  "kernelspec": {
   "display_name": "SAR_Recommendations dciborowdsvm",
   "language": "python",
   "name": "sar_recommendations_dciborowdsvm"
  },
  "language_info": {
   "codemirror_mode": {
    "name": "ipython",
    "version": 3
   },
   "file_extension": ".py",
   "mimetype": "text/x-python",
   "name": "python",
   "nbconvert_exporter": "python",
   "pygments_lexer": "ipython3",
   "version": "3.5.2"
  }
 },
 "nbformat": 4,
 "nbformat_minor": 2
}
