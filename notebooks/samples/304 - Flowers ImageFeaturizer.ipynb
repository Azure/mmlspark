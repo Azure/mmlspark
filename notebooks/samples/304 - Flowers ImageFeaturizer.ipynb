{
 "cells": [
  {
   "cell_type": "code",
   "execution_count": null,
   "metadata": {
    "collapsed": true
   },
   "outputs": [],
   "source": [
    "from mmlspark import ImageReader, ImageFeaturizer, UnrollImage, ImageTransform, TrainClassifier, \\\n",
    "    SelectColumns, Repartition, ImageFeaturizer, ModelDownloader\n",
    "\n",
    "import pyspark\n",
    "from pyspark.sql.functions import udf\n",
    "from pyspark.sql.types import IntegerType, StringType, DoubleType\n",
    "from pyspark.ml import Transformer, Estimator, Pipeline\n",
    "from pyspark.ml.classification import LogisticRegression\n",
    "\n",
    "import numpy as np, pandas as pd, os, sys, time\n",
    "from os.path import join, abspath, exists\n",
    "from urllib.request import urlretrieve\n",
    "\n",
    "spark = pyspark.sql.SparkSession.builder.appName(\"CIFAR10 - ImageFeaturizer\").getOrCreate()"
   ]
  },
  {
   "cell_type": "markdown",
   "metadata": {},
   "source": [
    "### Set some paths."
   ]
  },
  {
   "cell_type": "code",
   "execution_count": null,
   "metadata": {
    "collapsed": true
   },
   "outputs": [],
   "source": [
    "dataFile = \"flowers_and_labels.parquet\"\n",
    "cdnURL = \"https://amldockerdatasets.azureedge.net\"\n",
    "dataURL = cdnURL + \"/Flowers/\" + dataFile\n",
    "localDataDir = abspath(\"Flowers/\")\n",
    "localDataFile = join(localDataDir, dataFile)"
   ]
  },
  {
   "cell_type": "code",
   "execution_count": null,
   "metadata": {
    "aml-deploy": "hdinsight",
    "collapsed": true
   },
   "outputs": [],
   "source": [
    "modelName = \"ResNet50\"\n",
    "modelDir = \"wasb:///models/\""
   ]
  },
  {
   "cell_type": "code",
   "execution_count": null,
   "metadata": {
    "aml-deploy": "local",
    "collapsed": true
   },
   "outputs": [],
   "source": [
    "modelName = \"ResNet50\"\n",
    "modelDir = \"file:\" + abspath(\"models\")"
   ]
  },
  {
   "cell_type": "markdown",
   "metadata": {},
   "source": [
    "### Download the CNTK model"
   ]
  },
  {
   "cell_type": "code",
   "execution_count": null,
   "metadata": {
    "collapsed": true
   },
   "outputs": [],
   "source": [
    "def mkdir(path):\n",
    "    directory = abspath(path)\n",
    "    if not exists(directory):\n",
    "        print(\"making directory {}\".format(directory))\n",
    "        os.makedirs(directory)\n",
    "    else:\n",
    "        print(\"already have directory {}\".format(directory))\n",
    "\n",
    "\n",
    "def download(url, path):\n",
    "    path = abspath(path)\n",
    "    if not os.path.isfile(path):\n",
    "        print(\"downloading to {}\".format(path))\n",
    "        urlretrieve(url, path)\n",
    "    else:\n",
    "        print(\"found {} skipping download\".format(abspath(path)))\n",
    "\n",
    "mkdir(localDataDir)\n",
    "download(dataURL, localDataFile)\n",
    "\n",
    "d = ModelDownloader(spark, modelDir)\n",
    "model = d.downloadByName(modelName)"
   ]
  },
  {
   "cell_type": "markdown",
   "metadata": {},
   "source": [
    "### Load the images"
   ]
  },
  {
   "cell_type": "code",
   "execution_count": null,
   "metadata": {
    "collapsed": true,
    "scrolled": true
   },
   "outputs": [],
   "source": [
    "imagesWithLabels = spark.read.parquet(\"file:\"+localDataFile)\n",
    "imagesWithLabels.printSchema()"
   ]
  },
  {
   "cell_type": "markdown",
   "metadata": {},
   "source": [
    "<img src=\"http://www.pyimagesearch.com/wp-content/uploads/2014/01/flowers17sample.jpg\" alt=\"Smiley face\" width=\"50%\" height=\"50%\"> "
   ]
  },
  {
   "cell_type": "markdown",
   "metadata": {},
   "source": [
    "### Make some featurizers"
   ]
  },
  {
   "cell_type": "code",
   "execution_count": null,
   "metadata": {
    "collapsed": true
   },
   "outputs": [],
   "source": [
    "it = ImageTransform()\\\n",
    "    .setOutputCol(\"scaled\")\\\n",
    "    .resize(height = 60, width = 60)\n",
    "      \n",
    "ur = UnrollImage()\\\n",
    "    .setInputCol(\"scaled\")\\\n",
    "    .setOutputCol(\"features\")\n",
    "\n",
    "basicFeaturizer = Pipeline(stages=[it,ur])"
   ]
  },
  {
   "cell_type": "code",
   "execution_count": null,
   "metadata": {
    "collapsed": true
   },
   "outputs": [],
   "source": [
    "cntkFeaturizer = ImageFeaturizer()\\\n",
    "    .setInputCol(\"image\")\\\n",
    "    .setOutputCol(\"features\")\\\n",
    "    .setModelLocation(model.uri)\\\n",
    "    .setLayerNames(model.layerNames)\\\n",
    "    .setCutOutputLayers(1)"
   ]
  },
  {
   "cell_type": "markdown",
   "metadata": {},
   "source": [
    "<img src=\"https://susudarseu.blob.core.windows.net/images/resnet-18-horiz2.png\" alt=\"Smiley face\" width=\"80%\" height=\"80%\"> "
   ]
  },
  {
   "cell_type": "markdown",
   "metadata": {},
   "source": [
    "### How does it work?"
   ]
  },
  {
   "cell_type": "markdown",
   "metadata": {},
   "source": [
    "<img src=\"http://i.stack.imgur.com/Hl2H6.png\" alt=\"Smiley face\" width=\"80%\" height=\"80%\"> "
   ]
  },
  {
   "cell_type": "markdown",
   "metadata": {},
   "source": [
    "### Define some methods to help us experiment"
   ]
  },
  {
   "cell_type": "code",
   "execution_count": null,
   "metadata": {
    "collapsed": true
   },
   "outputs": [],
   "source": [
    "def featurize(featurizer, train, test, name):\n",
    "    start = time.time()\n",
    "    sc1 = SelectColumns(cols=[\"features\",\"labels\"])\n",
    "    rep = Repartition(n=4)\n",
    "    pipe = Pipeline(stages=[featurizer,sc1,rep]).fit(train)\n",
    "    trainFeats = pipe.transform(train).cache()\n",
    "    testFeats = pipe.transform(test).cache()\n",
    "\n",
    "    print(\"Featurized {} images with {} featurizer in {} seconds\"\\\n",
    "          .format(trainFeats.count()+testFeats.count(), name, time.time()-start))\n",
    "    sys.stdout.flush()\n",
    "    return trainFeats, testFeats\n",
    "\n",
    "def predict(model, train, test, name):\n",
    "    start=time.time()\n",
    "    sc2 = SelectColumns(cols=([\"scored_labels\",\"labels\"]))\n",
    "    pipe = Pipeline(stages=[model, sc2]).fit(train)\n",
    "    predictions = pipe.transform(test).cache()\n",
    "    \n",
    "    print(\"Classified {} images from {} features in {} seconds\"\\\n",
    "          .format(predictions.count(), name, time.time()-start))\n",
    "    sys.stdout.flush()\n",
    "    \n",
    "    predictions\\\n",
    "        .coalesce(1)\\\n",
    "        .write.mode(\"overwrite\")\\\n",
    "        .csv(\"/tmp/flower_predictions_{}\".format(name), header=True)"
   ]
  },
  {
   "cell_type": "markdown",
   "metadata": {},
   "source": [
    "### Run the experiment"
   ]
  },
  {
   "cell_type": "code",
   "execution_count": null,
   "metadata": {
    "collapsed": true
   },
   "outputs": [],
   "source": [
    "train, test = imagesWithLabels.randomSplit([.8,.2])\n",
    "train = train.coalesce(51*2).cache()\n",
    "test = test.coalesce(51).cache()\n",
    "train.count(), test.count()"
   ]
  },
  {
   "cell_type": "code",
   "execution_count": null,
   "metadata": {
    "collapsed": true
   },
   "outputs": [],
   "source": [
    "model = TrainClassifier().setModel(LogisticRegression()).setLabelCol(\"labels\")"
   ]
  },
  {
   "cell_type": "code",
   "execution_count": null,
   "metadata": {
    "collapsed": true
   },
   "outputs": [],
   "source": [
    "trainFeatsBasic, testFeatsBasic = featurize(basicFeaturizer,train,test,'basic')"
   ]
  },
  {
   "cell_type": "code",
   "execution_count": null,
   "metadata": {
    "collapsed": true
   },
   "outputs": [],
   "source": [
    "predict(model, trainFeatsBasic, testFeatsBasic, 'basic')"
   ]
  },
  {
   "cell_type": "code",
   "execution_count": null,
   "metadata": {
    "collapsed": true
   },
   "outputs": [],
   "source": [
    "trainFeatsCNTK, testFeatsCNTK = featurize(cntkFeaturizer,train,test,'cntk')"
   ]
  },
  {
   "cell_type": "code",
   "execution_count": null,
   "metadata": {
    "collapsed": true
   },
   "outputs": [],
   "source": [
    "predict(model, trainFeatsCNTK, testFeatsCNTK, 'cntk')"
   ]
  },
  {
   "cell_type": "markdown",
   "metadata": {},
   "source": [
    "### Plot confusion matrix."
   ]
  },
  {
   "cell_type": "code",
   "execution_count": null,
   "metadata": {
    "aml-deploy": "hdinsight",
    "collapsed": true,
    "scrolled": true
   },
   "outputs": [],
   "source": [
    "%%local\n",
    "%matplotlib inline\n",
    "import matplotlib.pyplot as plt\n",
    "from sklearn.metrics import confusion_matrix\n",
    "import pandas as pd\n",
    "from glob import glob\n",
    "import numpy as np\n",
    "\n",
    "\n",
    "!rm -rf /tmp/flower_predictions_basic\n",
    "!hdfs dfs -copyToLocal /tmp/flower_predictions_basic /tmp/flower_predictions_basic\n",
    "results_basic = pd.read_csv(glob('/tmp/flower_predictions_basic/*.csv')[0])\n",
    "\n",
    "!rm -rf /tmp/flower_predictions_cntk\n",
    "!hdfs dfs -copyToLocal /tmp/flower_predictions_cntk /tmp/flower_predictions_cntk\n",
    "results_cntk = pd.read_csv(glob('/tmp/flower_predictions_cntk/*.csv')[0])\n",
    "\n",
    "\n",
    "#labels = {\"airplane\":1, \"automobile\":2, \"bird\":3, \"cat\":4, \"deer\":5, \"dog\":6, \"frog\":7, \"horse\":8, \"ship\":9, \"truck\":10}\n",
    "def evaluate(results, name):\n",
    "    y, y_hat = results[\"labels\"],results[\"scored_labels\"]\n",
    "    y = [int(l) for l in y]\n",
    "\n",
    "    accuracy = np.mean([1. if pred==true else 0. for (pred,true) in zip(y_hat,y)])\n",
    "    cm = confusion_matrix(y, y_hat)\n",
    "    cm = cm.astype('float') / cm.sum(axis=1)[:, np.newaxis]\n",
    "    \n",
    "    plt.text(40, 10,\"$Accuracy$ $=$ ${}\\%$\".format(round(accuracy*100,1)),fontsize=14)\n",
    "    plt.imshow(cm, interpolation=\"nearest\", cmap=plt.cm.Blues)\n",
    "    plt.colorbar()\n",
    "    plt.xlabel(\"$Predicted$ $label$\", fontsize=18)\n",
    "    plt.ylabel(\"$True$ $Label$\", fontsize=18)\n",
    "    plt.title(\"$Normalized$ $CM$ $for$ ${}$\".format(name))\n",
    "\n",
    "plt.figure(figsize=(12,5))\n",
    "plt.subplot(1,2,1)\n",
    "evaluate(results_cntk,\"CNTKModel + LR\")\n",
    "plt.subplot(1,2,2)\n",
    "evaluate(results_basic,\"LR\")\n",
    "plt.show()"
   ]
  },
  {
   "cell_type": "code",
   "execution_count": null,
   "metadata": {
    "collapsed": true
   },
   "outputs": [],
   "source": [
    ""
   ]
  }
 ],
 "metadata": {
  "anaconda-cloud": {},
  "celltoolbar": "Edit Metadata",
  "kernelspec": {
   "display_name": "Python 3",
   "language": "python",
   "name": "python3"
  },
  "language_info": {
   "codemirror_mode": {
    "name": "ipython",
    "version": 3.0
   },
   "file_extension": ".py",
   "mimetype": "text/x-python",
   "name": "python",
   "nbconvert_exporter": "python",
   "pygments_lexer": "ipython3",
   "version": "3.5.2"
  }
 },
 "nbformat": 4,
 "nbformat_minor": 0
}
