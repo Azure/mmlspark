{
 "cells": [
  {
   "cell_type": "code",
   "execution_count": 4,
   "metadata": {},
   "outputs": [],
   "source": [
    "import numpy as np\n",
    "import pandas as pd\n",
    "import pyspark\n",
    "import unittest\n",
    "from mmlspark.evaluate import *\n",
    "from pyspark.ml.tuning import *\n",
    "from pyspark.sql.types import *"
   ]
  },
  {
   "cell_type": "code",
   "execution_count": 5,
   "metadata": {},
   "outputs": [],
   "source": [
    "def create_sample_data():\n",
    "    spark = pyspark.sql.SparkSession.builder.master(\"local[*]\") \\\n",
    "        .config('spark.driver.extraClassPath',\n",
    "                \"/home/dciborow/mmlspark2/BuildArtifacts/packages/m2/com/microsoft/ml/spark/mmlspark_2.11/0.0/mmlspark_2.11-0.0.jar\") \\\n",
    "        .getOrCreate()\n",
    "    # Synthesize some testing data.\n",
    "    rating_pred = pd.DataFrame({\n",
    "        'customerID': [1, 1, 1, 1, 1, 2, 2, 2, 2, 2, 3, 3, 3, 3, 3, 3, 4, 4, 4, 4, 4],\n",
    "        'itemID': [1, 2, 3, 4, 5, 2, 3, 4, 5, 6, 3, 4, 5, 6, 7, 8, 1, 2, 3, 4, 5],\n",
    "        'rating': [5, 5, 5, 5, 5, 5, 5, 5, 5, 5, 5, 5, 5, 5, 5, 5, 5, 5, 5, 5, 5],\n",
    "        'timeStamp': [d.strftime('%Y%m%d') for d in pd.date_range('2018-01-01', '2018-01-21')]\n",
    "    })\n",
    "    rating_true = pd.DataFrame({\n",
    "        'customerID': [1, 1, 1, 1, 1, 2, 2, 2, 2, 2, 3, 3, 3, 3, 3, 3, 4, 4, 4, 4, 4],\n",
    "        'itemID': [3, 4, 5, 6, 7, 1, 2, 3, 4, 5, 2, 3, 4, 5, 6, 7, 2, 3, 4, 5, 6],\n",
    "        'rating': [5, 5, 5, 5, 5, 5, 5, 5, 5, 5, 5, 5, 5, 5, 5, 5, 5, 5, 5, 5, 5],\n",
    "        'timeStamp': [d.strftime('%Y%m%d') for d in pd.date_range('2018-01-01', '2018-01-21')]\n",
    "    })\n",
    "    dfs_pred = spark.createDataFrame(rating_pred)\n",
    "    dfs_true = spark.createDataFrame(rating_true)\n",
    "    return dfs_pred, dfs_true, rating_pred, spark\n"
   ]
  },
  {
   "cell_type": "code",
   "execution_count": 8,
   "metadata": {},
   "outputs": [],
   "source": [
    "k = 5"
   ]
  },
  {
   "cell_type": "code",
   "execution_count": 11,
   "metadata": {},
   "outputs": [
    {
     "name": "stdout",
     "output_type": "stream",
     "text": [
      "0.75\n",
      "0.7500000000000001\n",
      "0.7113207924233891\n",
      "0.6075\n"
     ]
    }
   ],
   "source": [
    "'''\n",
    "Test ranking evaluation methods\n",
    "'''\n",
    "dfs_pred, dfs_true, rating_pred, spark = create_sample_data()\n",
    "\n",
    "# Evaluate ranking metrics.\n",
    "\n",
    "evaluator_ranking = RankingEvaluation(k, dfs_true, dfs_pred)\n",
    "\n",
    "recall = evaluator_ranking.recall_at_k()\n",
    "precision = evaluator_ranking.precision_at_k()\n",
    "ndcg = evaluator_ranking.ndcg_at_k()\n",
    "map = evaluator_ranking.map_at_k()\n",
    "\n",
    "print(recall)\n",
    "print(precision)\n",
    "print(ndcg)\n",
    "print(map)"
   ]
  },
  {
   "cell_type": "code",
   "execution_count": 13,
   "metadata": {},
   "outputs": [
    {
     "name": "stdout",
     "output_type": "stream",
     "text": [
      "+---+------+---------+\n",
      "| id|itemID|binNumber|\n",
      "+---+------+---------+\n",
      "|  1|     1|        0|\n",
      "|  2|     2|        1|\n",
      "|  3|     3|        1|\n",
      "|  4|     4|        1|\n",
      "|  5|     5|        2|\n",
      "|  6|     6|        2|\n",
      "|  7|     7|        2|\n",
      "+---+------+---------+\n",
      "\n",
      "None\n",
      "[Row(binNumber=0, itemCounts=2, percentage=10.0, lower='0.0', upper='33.33')]\n",
      "1.0\n",
      "1.0\n"
     ]
    }
   ],
   "source": [
    "'''\n",
    "Test ranking evaluation methods\n",
    "'''\n",
    "dfs_pred, dfs_true, rating_pred, spark = create_sample_data()\n",
    "\n",
    "# Evaluate distribution metrics.\n",
    "\n",
    "evaluator_distribution = DistributionMetrics(k, dfs_true, dfs_pred)\n",
    "\n",
    "print(evaluator_distribution.popularity_at_k().head(1))\n",
    "\n",
    "diversity = evaluator_distribution.diversity_at_k()\n",
    "max_diversity = evaluator_distribution.max_diversity()\n",
    "\n",
    "print(diversity)\n",
    "print(max_diversity)"
   ]
  },
  {
   "cell_type": "code",
   "execution_count": 14,
   "metadata": {},
   "outputs": [
    {
     "name": "stdout",
     "output_type": "stream",
     "text": [
      "-0.11670578237612461\n",
      "0.09729363532479457\n",
      "0.7528206481819291\n",
      "0.9648624624924145\n"
     ]
    }
   ],
   "source": [
    "'''\n",
    "Test ranking evaluation methods\n",
    "'''\n",
    "dfs_pred, dfs_true, rating_pred, spark = create_sample_data()\n",
    "\n",
    "# Evaluate rating metrics.\n",
    "\n",
    "rating_pred['rating'] = rating_pred['rating'] + np.random.normal(0, 1, rating_pred.shape[0])\n",
    "\n",
    "dfs_pred = spark.createDataFrame(rating_pred)\n",
    "\n",
    "evaluator_rating = RatingEvaluation(dfs_true, dfs_pred)\n",
    "\n",
    "rsquared = evaluator_rating.rsquared\n",
    "exp_var = evaluator_rating.exp_var\n",
    "mae = evaluator_rating.mae\n",
    "rmse = evaluator_rating.rmse\n",
    "\n",
    "print(rsquared)\n",
    "print(exp_var)\n",
    "print(mae)\n",
    "print(rmse)"
   ]
  },
  {
   "cell_type": "code",
   "execution_count": null,
   "metadata": {},
   "outputs": [],
   "source": []
  }
 ],
 "metadata": {
  "kernelspec": {
   "display_name": "SAR_Recommendations dciborowdsvm",
   "language": "python",
   "name": "sar_recommendations_dciborowdsvm"
  },
  "language_info": {
   "codemirror_mode": {
    "name": "ipython",
    "version": 3
   },
   "file_extension": ".py",
   "mimetype": "text/x-python",
   "name": "python",
   "nbconvert_exporter": "python",
   "pygments_lexer": "ipython3",
   "version": "3.5.2"
  }
 },
 "nbformat": 4,
 "nbformat_minor": 2
}
