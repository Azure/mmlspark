{
 "cells": [
  {
   "cell_type": "markdown",
   "metadata": {},
   "source": [
    "## 102 - Training Regression Algorithms with the L-BFGS Solver\n",
    "\n",
    "In this example, we run a linear regression on the *Flight Delay* dataset to predict the delay times.\n",
    "\n",
    "We demonstrate how to use the `MultiColumnAdapter`, `TrainRegressor` and `ComputePerInstanceStatistics` APIs.\n",
    "\n",
    "First, import the packages."
   ]
  },
  {
   "cell_type": "code",
   "execution_count": null,
   "metadata": {},
   "outputs": [],
   "source": [
    "import numpy as np\n",
    "import mmlspark"
   ]
  },
  {
   "cell_type": "markdown",
   "metadata": {},
   "source": [
    "Next, import the CSV dataset."
   ]
  },
  {
   "cell_type": "code",
   "execution_count": null,
   "metadata": {},
   "outputs": [],
   "source": [
    "# load raw data from small-sized 30 MB CSV file (trimmed to contain just what we use)\n",
    "dataFilePath = \"On_Time_Performance_2012_9.csv\"\n",
    "import os, urllib\n",
    "if not os.path.isfile(dataFilePath):\n",
    "    urllib.request.urlretrieve(\"https://mmlspark.azureedge.net/datasets/\" + dataFilePath,\n",
    "                               dataFilePath)\n",
    "\n",
    "from pyspark.sql.types import StructType, StructField, StringType, DoubleType\n",
    "schema = StructType([StructField(\"Quarter\", DoubleType(), False),\n",
    "    StructField(\"Month\", DoubleType(), False),\n",
    "    StructField(\"DayofMonth\", DoubleType(), False),\n",
    "    StructField(\"DayOfWeek\", DoubleType(), False),\n",
    "    StructField(\"Carrier\", StringType(), False),\n",
    "    StructField(\"OriginAirportID\", StringType(), False),\n",
    "    StructField(\"DestAirportID\", StringType(), False),\n",
    "    StructField(\"CRSDepTime\", DoubleType(), False),\n",
    "    StructField(\"DepTimeBlk\", StringType(), False),\n",
    "    StructField(\"CRSArrTime\", DoubleType(), False),\n",
    "    StructField(\"ArrDelay\", DoubleType(), False),\n",
    "    StructField(\"ArrTimeBlk\", StringType(), False),\n",
    "    StructField(\"Diverted\", StringType(), False)])\n",
    "\n",
    "flightDelay = spark.read.option(\"header\", \"true\").csv(dataFilePath,\n",
    "    schema=schema)\n",
    "\n",
    "# Print information on the dataset we loaded\n",
    "print(\"Records read: \" + str(flightDelay.count()))\n",
    "print(\"Schema:\")\n",
    "flightDelay.printSchema()\n",
    "flightDelay.limit(10).toPandas()"
   ]
  },
  {
   "cell_type": "markdown",
   "metadata": {},
   "source": [
    "Split the dataset into train and test sets."
   ]
  },
  {
   "cell_type": "code",
   "execution_count": null,
   "metadata": {},
   "outputs": [],
   "source": [
    "train, test = flightDelay.randomSplit([0.75, 0.25])"
   ]
  },
  {
   "cell_type": "markdown",
   "metadata": {},
   "source": [
    "Train a regressor on dataset with `l-bfgs`."
   ]
  },
  {
   "cell_type": "code",
   "execution_count": null,
   "metadata": {},
   "outputs": [],
   "source": [
    "from mmlspark import MultiColumnAdapter, SelectColumns, TrainRegressor, TrainedRegressorModel\n",
    "from pyspark.ml import Pipeline, PipelineModel\n",
    "from pyspark.ml.regression import LinearRegression\n",
    "from pyspark.ml.feature import StringIndexer\n",
    "# Convert columns to categorical\n",
    "catCols = [\"Carrier\", \"DepTimeBlk\", \"ArrTimeBlk\"]\n",
    "catColsOut = list(map(lambda s: s + \"Out\", catCols))\n",
    "siModel = MultiColumnAdapter(baseStage=StringIndexer(handleInvalid=\"skip\"),\n",
    "                             inputCols=catCols,\n",
    "                             outputCols=catColsOut)\n",
    "numericColumns = catColsOut + [\"Quarter\", \"DayofMonth\", \"DayOfWeek\",\"OriginAirportID\",\n",
    "                               \"DestAirportID\",\"CRSDepTime\", \"CRSArrTime\", \"ArrDelay\"]\n",
    "selectNums = SelectColumns(cols=numericColumns)\n",
    "lr = LinearRegression().setSolver(\"l-bfgs\").setRegParam(0.1).setElasticNetParam(0.3)\n",
    "trModel = TrainRegressor(model=lr, labelCol=\"ArrDelay\")\n",
    "model = Pipeline(stages=[siModel, selectNums, trModel]).fit(train)\n",
    "modelName = \"flightDelayModel.mml\"\n",
    "model.write().overwrite().save(modelName)"
   ]
  },
  {
   "cell_type": "markdown",
   "metadata": {},
   "source": [
    "Score the regressor on the test data."
   ]
  },
  {
   "cell_type": "code",
   "execution_count": null,
   "metadata": {},
   "outputs": [],
   "source": [
    "flightDelayModel = PipelineModel.load(modelName)\n",
    "scoredData = flightDelayModel.transform(test)\n",
    "scoredData.limit(10).toPandas()"
   ]
  },
  {
   "cell_type": "markdown",
   "metadata": {},
   "source": [
    "Compute model metrics against the entire scored dataset"
   ]
  },
  {
   "cell_type": "code",
   "execution_count": null,
   "metadata": {},
   "outputs": [],
   "source": [
    "from mmlspark import ComputeModelStatistics\n",
    "metrics = ComputeModelStatistics().transform(scoredData)\n",
    "metrics.toPandas()"
   ]
  },
  {
   "cell_type": "markdown",
   "metadata": {},
   "source": [
    "Finally, compute and show per-instance statistics, demonstrating the usage\n",
    "of `ComputePerInstanceStatistics`."
   ]
  },
  {
   "cell_type": "code",
   "execution_count": null,
   "metadata": {},
   "outputs": [],
   "source": [
    "from mmlspark import ComputePerInstanceStatistics\n",
    "evalPerInstance = ComputePerInstanceStatistics().transform(scoredData)\n",
    "evalPerInstance.select(\"ArrDelay\", \"Scores\", \"L1_loss\", \"L2_loss\").limit(10).toPandas()"
   ]
  }
 ],
 "metadata": {
  "anaconda-cloud": {},
  "kernelspec": {
   "display_name": "Python [default]",
   "language": "python",
   "name": "python3"
  },
  "language_info": {
   "codemirror_mode": {
    "name": "ipython",
    "version": 3
   },
   "file_extension": ".py",
   "mimetype": "text/x-python",
   "name": "python",
   "nbconvert_exporter": "python",
   "pygments_lexer": "ipython3",
   "version": "3.5.2"
  }
 },
 "nbformat": 4,
 "nbformat_minor": 0
}
