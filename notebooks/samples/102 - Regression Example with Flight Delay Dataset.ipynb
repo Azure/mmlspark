{
 "cells": [
  {
   "cell_type": "markdown",
   "metadata": {},
   "source": [
    "## 102 - Training Regression Algorithms with the L-BFGS Solver\n",
    "\n",
    "In this example, we run linear regression on the *Flight Delay* dataset to predict the delay times.\n",
    "\n",
    "We demonstrate how to use the `TrainRegressor` and the `ComputePerInstanceStatistics` APIs.\n",
    "\n",
    "First, import the packages."
   ]
  },
  {
   "cell_type": "code",
   "execution_count": null,
   "metadata": {},
   "outputs": [],
   "source": [
    "import numpy as np\n",
    "import pandas as pd\n",
    "import mmlspark"
   ]
  },
  {
   "cell_type": "markdown",
   "metadata": {},
   "source": [
    "Next, import the CSV dataset."
   ]
  },
  {
   "cell_type": "code",
   "execution_count": null,
   "metadata": {},
   "outputs": [],
   "source": [
    "# load raw data from small-sized 30 MB CSV file (trimmed to contain just what we use)\n",
    "dataFilePath = \"On_Time_Performance_2012_9.csv\"\n",
    "import os, urllib\n",
    "if not os.path.isfile(dataFilePath):\n",
    "    urllib.request.urlretrieve(\"https://mmlspark.azureedge.net/datasets/\" + dataFilePath,\n",
    "                               dataFilePath)\n",
    "flightDelay = spark.createDataFrame(\n",
    "    pd.read_csv(dataFilePath,\n",
    "                dtype={\"Month\": np.float64, \"Quarter\": np.float64,\n",
    "                       \"DayofMonth\": np.float64, \"DayOfWeek\": np.float64,\n",
    "                       \"OriginAirportID\": np.float64, \"DestAirportID\": np.float64,\n",
    "                       \"CRSDepTime\": np.float64, \"CRSArrTime\": np.float64}))\n",
    "# Print information on the dataset we loaded\n",
    "print(\"Records read: \" + str(flightDelay.count()))\n",
    "print(\"Schema:\")\n",
    "flightDelay.printSchema()\n",
    "flightDelay.limit(10).toPandas()"
   ]
  },
  {
   "cell_type": "markdown",
   "metadata": {},
   "source": [
    "Split the dataset into train and test sets."
   ]
  },
  {
   "cell_type": "code",
   "execution_count": null,
   "metadata": {},
   "outputs": [],
   "source": [
    "train, test = flightDelay.randomSplit([0.75, 0.25])"
   ]
  },
  {
   "cell_type": "markdown",
   "metadata": {},
   "source": [
    "Train a regressor on dataset with `l-bfgs`."
   ]
  },
  {
   "cell_type": "code",
   "execution_count": null,
   "metadata": {},
   "outputs": [],
   "source": [
    "from mmlspark import MultiColumnAdapter, RenameColumn, TrainRegressor\n",
    "from pyspark.ml import Pipeline, PipelineModel\n",
    "from pyspark.ml.regression import LinearRegression\n",
    "from pyspark.ml.feature import StringIndexer\n",
    "# Convert columns to categorical\n",
    "catCols = [\"Carrier\", \"DepTimeBlk\", \"ArrTimeBlk\"]\n",
    "tmpTag = \"Tmp\"\n",
    "catColsTmp = list(map(lambda colName: colName + tmpTag, catCols))\n",
    "siModel = MultiColumnAdapter(StringIndexer(), inputCols=catCols, outputCol=catColsTmp)\n",
    "renameColumns = MultiColumnAdapter(RenameColumn(), inputCols=catColsTmp, outputCol=catCols)\n",
    "\n",
    "lr = LinearRegression().setSolver(\"l-bfgs\").setRegParam(0.1).setElasticNetParam(0.3)\n",
    "lrModel = TrainRegressor(model=lr, labelCol=\"ArrDelay\")\n",
    "\n",
    "model = Pipeline(stages=[siModel, renameColumns, lr]).fit(train)\n",
    "model.write().overwrite().save(\"flightDelayModel.mml\")"
   ]
  },
  {
   "cell_type": "markdown",
   "metadata": {},
   "source": [
    "Score the regressor on the test data."
   ]
  },
  {
   "cell_type": "code",
   "execution_count": null,
   "metadata": {},
   "outputs": [],
   "source": [
    "flightDelayModel = PipelineModel.load(\"flightDelayModel.mml\")\n",
    "scoredData = flightDelayModel.transform(test)\n",
    "scoredData.limit(10).toPandas()"
   ]
  },
  {
   "cell_type": "markdown",
   "metadata": {},
   "source": [
    "Compute model metrics against the entire scored dataset"
   ]
  },
  {
   "cell_type": "code",
   "execution_count": null,
   "metadata": {},
   "outputs": [],
   "source": [
    "from mmlspark import ComputeModelStatistics\n",
    "metrics = ComputeModelStatistics().transform(scoredData)\n",
    "metrics.toPandas()"
   ]
  },
  {
   "cell_type": "markdown",
   "metadata": {},
   "source": [
    "Finally, compute and show per-instance statistics, demonstrating the usage\n",
    "of `ComputePerInstanceStatistics`."
   ]
  },
  {
   "cell_type": "code",
   "execution_count": null,
   "metadata": {},
   "outputs": [],
   "source": [
    "from mmlspark import ComputePerInstanceStatistics\n",
    "evalPerInstance = ComputePerInstanceStatistics().transform(scoredData)\n",
    "evalPerInstance.select(\"ArrDelay\", \"Scores\", \"L1_loss\", \"L2_loss\").limit(10).toPandas()"
   ]
  }
 ],
 "metadata": {
  "anaconda-cloud": {},
  "kernelspec": {
   "display_name": "Python [default]",
   "language": "python",
   "name": "python3"
  },
  "language_info": {
   "codemirror_mode": {
    "name": "ipython",
    "version": 3
   },
   "file_extension": ".py",
   "mimetype": "text/x-python",
   "name": "python",
   "nbconvert_exporter": "python",
   "pygments_lexer": "ipython3",
   "version": "3.5.2"
  }
 },
 "nbformat": 4,
 "nbformat_minor": 0
}
