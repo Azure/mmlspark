{
 "cells": [
  {
   "cell_type": "code",
   "execution_count": 2,
   "metadata": {
    "collapsed": true
   },
   "outputs": [
    {
     "data": {
      "text/html": [
       "<style scoped>\n  .ansiout {\n    display: block;\n    unicode-bidi: embed;\n    white-space: pre-wrap;\n    word-wrap: break-word;\n    word-break: break-all;\n    font-family: \"Source Code Pro\", \"Menlo\", monospace;;\n    font-size: 13px;\n    color: #555;\n    margin-left: 4px;\n    line-height: 19px;\n  }\n</style>\n<div class=\"ansiout\"></div>"
      ]
     },
     "metadata": {},
     "output_type": "execute_result"
    }
   ],
   "source": [
    "import pyspark\n",
    "from mmlspark.RankingEvaluator import RankingEvaluator\n",
    "from pyspark.ml.tuning import *\n",
    "from pyspark.sql.types import *\n",
    "from pyspark.ml.recommendation import ALS\n",
    "from mmlspark.RankingTrainValidationSplit import RankingTrainValidationSplit"
   ]
  },
  {
   "cell_type": "code",
   "execution_count": 3,
   "metadata": {},
   "outputs": [
    {
     "data": {
      "text/html": [
       "<style scoped>\n  .ansiout {\n    display: block;\n    unicode-bidi: embed;\n    white-space: pre-wrap;\n    word-wrap: break-word;\n    word-break: break-all;\n    font-family: \"Source Code Pro\", \"Menlo\", monospace;;\n    font-size: 13px;\n    color: #555;\n    margin-left: 4px;\n    line-height: 19px;\n  }\n</style>\n<div class=\"ansiout\"></div>"
      ]
     },
     "metadata": {},
     "output_type": "execute_result"
    }
   ],
   "source": [
    "def getRatings():\n",
    "        cSchema = StructType([StructField(\"user\", IntegerType()),\n",
    "                              StructField(\"item\", IntegerType()),\n",
    "                              StructField(\"rating\", IntegerType()),\n",
    "                              StructField(\"notTime\", IntegerType())])\n",
    "\n",
    "        ratings = pyspark.sql.SparkSession.builder.getOrCreate().createDataFrame([\n",
    "            (0, 1, 4, 4),\n",
    "            (0, 3, 1, 1),\n",
    "            (0, 4, 5, 5),\n",
    "            (0, 5, 3, 3),\n",
    "            (0, 7, 3, 3),\n",
    "            (0, 9, 3, 3),\n",
    "            (0, 10, 3, 3),\n",
    "            (1, 1, 4, 4),\n",
    "            (1, 2, 5, 5),\n",
    "            (1, 3, 1, 1),\n",
    "            (1, 6, 4, 4),\n",
    "            (1, 7, 5, 5),\n",
    "            (1, 8, 1, 1),\n",
    "            (1, 10, 3, 3),\n",
    "            (2, 1, 4, 4),\n",
    "            (2, 2, 1, 1),\n",
    "            (2, 3, 1, 1),\n",
    "            (2, 4, 5, 5),\n",
    "            (2, 5, 3, 3),\n",
    "            (2, 6, 4, 4),\n",
    "            (2, 8, 1, 1),\n",
    "            (2, 9, 5, 5),\n",
    "            (2, 10, 3, 3),\n",
    "            (3, 2, 5, 5),\n",
    "            (3, 3, 1, 1),\n",
    "            (3, 4, 5, 5),\n",
    "            (3, 5, 3, 3),\n",
    "            (3, 6, 4, 4),\n",
    "            (3, 7, 5, 5),\n",
    "            (3, 8, 1, 1),\n",
    "            (3, 9, 5, 5),\n",
    "            (3, 10, 3, 3)], cSchema)\n",
    "        return ratings"
   ]
  },
  {
   "cell_type": "code",
   "execution_count": 4,
   "metadata": {},
   "outputs": [
    {
     "data": {
      "text/html": [
       "<style scoped>\n  .ansiout {\n    display: block;\n    unicode-bidi: embed;\n    white-space: pre-wrap;\n    word-wrap: break-word;\n    word-break: break-all;\n    font-family: \"Source Code Pro\", \"Menlo\", monospace;;\n    font-size: 13px;\n    color: #555;\n    margin-left: 4px;\n    line-height: 19px;\n  }\n</style>\n<div class=\"ansiout\">fit starting\nUser Recs: \n[Row(user=1, recommendations=[Row(item=7, rating=4.925848007202148), Row(item=2, rating=4.852099418640137), Row(item=4, rating=4.692464351654053)])]\nValidation Metrics: \n[0.3086598407528446, 0.38268031849431083, 0.38268031849431083, 0.42597952225853364, 0.3519590445170674]\nMetrics List: \nListBuffer(Map(map -&gt; 0.2222222222222222, maxDiversity -&gt; -10.0, diversityAtK -&gt; -9.0, recallAtK -&gt; 0.3333333333333333, ndcgAt -&gt; 0.3086598407528446, precisionAtk -&gt; 0.3333333333333333), Map(map -&gt; 0.2638888888888889, maxDiversity -&gt; -8.0, diversityAtK -&gt; -7.0, recallAtK -&gt; 0.41666666666666663, ndcgAt -&gt; 0.38268031849431083, precisionAtk -&gt; 0.41666666666666663), Map(map -&gt; 0.2638888888888889, maxDiversity -&gt; -8.0, diversityAtK -&gt; -7.0, recallAtK -&gt; 0.41666666666666663, ndcgAt -&gt; 0.38268031849431083, precisionAtk -&gt; 0.41666666666666663), Map(map -&gt; 0.3055555555555556, maxDiversity -&gt; -7.0, diversityAtK -&gt; -5.0, recallAtK -&gt; 0.41666666666666663, ndcgAt -&gt; 0.42597952225853364, precisionAtk -&gt; 0.41666666666666663), Map(map -&gt; 0.2222222222222222, maxDiversity -&gt; -7.0, diversityAtK -&gt; -3.0, recallAtK -&gt; 0.3333333333333333, ndcgAt -&gt; 0.3519590445170674, precisionAtk -&gt; 0.3333333333333333))\n</div>"
      ]
     },
     "metadata": {},
     "output_type": "execute_result"
    }
   ],
   "source": [
    "ratings = getRatings()\n",
    "\n",
    "als = ALS() \\\n",
    "    .setUserCol(\"user\") \\\n",
    "    .setRatingCol('rating') \\\n",
    "    .setItemCol(\"item\") \\\n",
    "\n",
    "paramGrid = ParamGridBuilder() \\\n",
    "    .addGrid(als.maxIter, [1, 2, 3, 5, 8]) \\\n",
    "    .build()\n",
    "\n",
    "evaluator = RankingEvaluator()\n",
    "\n",
    "rankingTrainValidationSplit = RankingTrainValidationSplit() \\\n",
    "    .setEstimator(als) \\\n",
    "    .setEvaluator(evaluator) \\\n",
    "    .setEstimatorParamMaps(paramGrid) \\\n",
    "    .setTrainRatio(0.8) \\\n",
    "    .setCollectSubMetrics(True)\n",
    "\n",
    "model = rankingTrainValidationSplit.fit(data_all)\n",
    "\n",
    "usersRecs = model.recommendForAllUsers(3)\n",
    "\n",
    "print(\"User Recs: \")\n",
    "print(usersRecs.take(1))\n",
    "print(\"Validation Metrics: \")\n",
    "print(model.validationMetrics)\n",
    "\n",
    "metrics = evaluator._call_java(\"getMetricsList\").toString()\n",
    "print(\"Metrics List: \")\n",
    "print(metrics)"
   ]
  },
  {
   "cell_type": "code",
   "execution_count": 5,
   "metadata": {},
   "outputs": [],
   "source": [
    ""
   ]
  }
 ],
 "metadata": {
  "anaconda-cloud": {},
  "kernelspec": {
   "display_name": "Python [default]",
   "language": "python",
   "name": "python3"
  },
  "language_info": {
   "codemirror_mode": {
    "name": "ipython",
    "version": 3
   },
   "file_extension": ".py",
   "mimetype": "text/x-python",
   "name": "python",
   "nbconvert_exporter": "python",
   "pygments_lexer": "ipython3",
   "version": "3.6.3"
  }
 },
 "nbformat": 4,
 "nbformat_minor": 0
}
